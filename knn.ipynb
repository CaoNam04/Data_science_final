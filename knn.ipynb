{
 "cells": [
  {
   "cell_type": "markdown",
   "metadata": {},
   "source": [
    "This cell will load and define the initial data."
   ]
  },
  {
   "cell_type": "code",
   "execution_count": null,
   "metadata": {},
   "outputs": [],
   "source": [
    "# Import necessary libraries\n",
    "import pandas as pd\n",
    "from sklearn.preprocessing import StandardScaler\n",
    "from sklearn.neighbors import NearestNeighbors\n",
    "import numpy as np\n",
    "\n",
    "# Sample data\n",
    "data = pd.DataFrame({\n",
    "    'CPU': [2.5, 3.0, 2.8, 3.6, 2.2],\n",
    "    'GPU': [4, 6, 4, 8, 4],\n",
    "    'RAM': [8, 16, 8, 32, 8],\n",
    "    'Storage': [256, 512, 256, 1024, 512],\n",
    "    'Battery': [6, 4, 5, 6, 7],\n",
    "    'Price': [700, 900, 750, 1500, 650],  # Price in dollars\n",
    "    'Laptop': ['Laptop1', 'Laptop2', 'Laptop3', 'Laptop4', 'Laptop5']\n",
    "})\n",
    "data\n"
   ]
  },
  {
   "cell_type": "markdown",
   "metadata": {},
   "source": [
    "Data Preprocessing"
   ]
  },
  {
   "cell_type": "code",
   "execution_count": null,
   "metadata": {},
   "outputs": [],
   "source": [
    "# Step 1: Preprocess the data\n",
    "features = ['CPU', 'GPU', 'RAM', 'Storage', 'Battery']\n",
    "scaler = StandardScaler()\n",
    "data_scaled = scaler.fit_transform(data[features])\n"
   ]
  },
  {
   "cell_type": "markdown",
   "metadata": {},
   "source": [
    "Model Initialization"
   ]
  },
  {
   "cell_type": "code",
   "execution_count": null,
   "metadata": {},
   "outputs": [],
   "source": [
    "k = 3  # Adjustable 'k' value\n",
    "knn = NearestNeighbors(n_neighbors=k, metric='euclidean')\n",
    "knn.fit(data_scaled)\n"
   ]
  },
  {
   "cell_type": "markdown",
   "metadata": {},
   "source": [
    "User Input"
   ]
  },
  {
   "cell_type": "code",
   "execution_count": null,
   "metadata": {},
   "outputs": [],
   "source": [
    "# Function to capture user preferences\n",
    "def get_user_preferences():\n",
    "    print(\"Enter your preferences for each feature:\")\n",
    "    cpu = float(input(\"CPU (e.g., 3.0 for 3.0 GHz): \"))\n",
    "    gpu = int(input(\"GPU (e.g., 6 for 6 GB): \"))\n",
    "    ram = int(input(\"RAM (e.g., 16 for 16 GB): \"))\n",
    "    storage = int(input(\"Storage (e.g., 512 for 512 GB): \"))\n",
    "    battery = int(input(\"Battery (e.g., 6 for 6 hours): \"))\n",
    "    return [[cpu, gpu, ram, storage, battery]]\n"
   ]
  },
  {
   "cell_type": "markdown",
   "metadata": {},
   "source": [
    "Recommendation Logic"
   ]
  },
  {
   "cell_type": "code",
   "execution_count": null,
   "metadata": {},
   "outputs": [],
   "source": [
    "# Main recommendation logic\n",
    "def recommend_laptops(user_input):\n",
    "    # Transform user input with the same scaler\n",
    "    user_input_scaled = scaler.transform(user_input)\n",
    "    # Find nearest neighbors\n",
    "    distances, indices = knn.kneighbors(user_input_scaled)\n",
    "    # Retrieve recommendations\n",
    "    recommended_laptops = data.iloc[indices[0]].copy()\n",
    "    recommended_laptops['Distance'] = distances[0]\n",
    "    return recommended_laptops\n"
   ]
  },
  {
   "cell_type": "markdown",
   "metadata": {},
   "source": [
    "Execution"
   ]
  },
  {
   "cell_type": "code",
   "execution_count": null,
   "metadata": {},
   "outputs": [],
   "source": [
    "# Capture user input in a separate session\n",
    "user_input = get_user_preferences()\n",
    "\n",
    "# Get and display recommendations\n",
    "recommended_laptops = recommend_laptops(user_input)\n",
    "print(\"\\nRecommended Laptops:\\n\", recommended_laptops)\n"
   ]
  }
 ],
 "metadata": {
  "kernelspec": {
   "display_name": ".venv",
   "language": "python",
   "name": "python3"
  },
  "language_info": {
   "codemirror_mode": {
    "name": "ipython",
    "version": 3
   },
   "file_extension": ".py",
   "mimetype": "text/x-python",
   "name": "python",
   "nbconvert_exporter": "python",
   "pygments_lexer": "ipython3",
   "version": "3.12.3"
  }
 },
 "nbformat": 4,
 "nbformat_minor": 2
}
